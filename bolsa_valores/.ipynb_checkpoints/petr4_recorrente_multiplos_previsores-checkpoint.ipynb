{
 "cells": [
  {
   "cell_type": "code",
   "execution_count": 1,
   "id": "8c108bbc",
   "metadata": {
    "ExecuteTime": {
     "end_time": "2022-06-10T02:00:58.665698Z",
     "start_time": "2022-06-10T02:00:53.570457Z"
    }
   },
   "outputs": [],
   "source": [
    "from keras.models import Sequential\n",
    "from keras.layers import Dense, Dropout, LSTM\n",
    "from sklearn.preprocessing import MinMaxScaler\n",
    "import numpy as np \n",
    "import pandas as pd\n",
    "import matplotlib.pyplot as plt\n",
    "from keras.callbacks import EarlyStopping, ReduceLROnPlateau, ModelCheckpoint"
   ]
  },
  {
   "cell_type": "code",
   "execution_count": 3,
   "id": "9851f80f",
   "metadata": {
    "ExecuteTime": {
     "end_time": "2022-06-10T02:03:41.103747Z",
     "start_time": "2022-06-10T02:03:41.085788Z"
    }
   },
   "outputs": [],
   "source": [
    "base = pd.read_csv('petr4_treinamento.csv')\n",
    "base = base.dropna()\n",
    "\n",
    "base_treinamento = base.iloc[:, 1:7].values\n",
    "\n",
    "normalizador = MinMaxScaler(feature_range = (0,1))\n",
    "base_treinamento_normalizada = normalizador.fit_transform(base_treinamento)\n",
    "\n",
    "normalizador_previsao = MinMaxScaler(feature_range = (0,1))\n",
    "normalizador_previsao.fit_transform(base_treinamento[:, 0:1])\n",
    "\n",
    "previsores = []\n",
    "preco_real = []\n",
    "\n",
    "for i in range(90,1242):\n",
    "    previsores.append(base_treinamento_normalizada[i-90:i , 0:6])\n",
    "    preco_real.append(base_treinamento_normalizada[i, 0])\n",
    "\n",
    "previsores, preco_real = np.array(previsores), np.array(preco_real)\n"
   ]
  },
  {
   "cell_type": "code",
   "execution_count": 4,
   "id": "bf4c7559",
   "metadata": {
    "ExecuteTime": {
     "end_time": "2022-06-10T02:08:32.724647Z",
     "start_time": "2022-06-10T02:03:44.519513Z"
    }
   },
   "outputs": [
    {
     "name": "stdout",
     "output_type": "stream",
     "text": [
      "Epoch 1/100\n",
      "36/36 [==============================] - ETA: 0s - loss: 0.0191 - mean_absolute_error: 0.1046\n",
      "Epoch 1: loss improved from inf to 0.01911, saving model to modelos_salvos\\pesos.h5\n",
      "36/36 [==============================] - 9s 107ms/step - loss: 0.0191 - mean_absolute_error: 0.1046 - lr: 0.0010\n",
      "Epoch 2/100\n",
      "36/36 [==============================] - ETA: 0s - loss: 0.0055 - mean_absolute_error: 0.0584\n",
      "Epoch 2: loss improved from 0.01911 to 0.00549, saving model to modelos_salvos\\pesos.h5\n",
      "36/36 [==============================] - 4s 110ms/step - loss: 0.0055 - mean_absolute_error: 0.0584 - lr: 0.0010\n",
      "Epoch 3/100\n",
      "36/36 [==============================] - ETA: 0s - loss: 0.0043 - mean_absolute_error: 0.0500\n",
      "Epoch 3: loss improved from 0.00549 to 0.00433, saving model to modelos_salvos\\pesos.h5\n",
      "36/36 [==============================] - 4s 108ms/step - loss: 0.0043 - mean_absolute_error: 0.0500 - lr: 0.0010\n",
      "Epoch 4/100\n",
      "36/36 [==============================] - ETA: 0s - loss: 0.0038 - mean_absolute_error: 0.0476\n",
      "Epoch 4: loss improved from 0.00433 to 0.00379, saving model to modelos_salvos\\pesos.h5\n",
      "36/36 [==============================] - 5s 141ms/step - loss: 0.0038 - mean_absolute_error: 0.0476 - lr: 0.0010\n",
      "Epoch 5/100\n",
      "36/36 [==============================] - ETA: 0s - loss: 0.0036 - mean_absolute_error: 0.0467\n",
      "Epoch 5: loss improved from 0.00379 to 0.00358, saving model to modelos_salvos\\pesos.h5\n",
      "36/36 [==============================] - 5s 137ms/step - loss: 0.0036 - mean_absolute_error: 0.0467 - lr: 0.0010\n",
      "Epoch 6/100\n",
      "36/36 [==============================] - ETA: 0s - loss: 0.0036 - mean_absolute_error: 0.0470\n",
      "Epoch 6: loss did not improve from 0.00358\n",
      "36/36 [==============================] - 5s 130ms/step - loss: 0.0036 - mean_absolute_error: 0.0470 - lr: 0.0010\n",
      "Epoch 7/100\n",
      "36/36 [==============================] - ETA: 0s - loss: 0.0032 - mean_absolute_error: 0.0429\n",
      "Epoch 7: loss improved from 0.00358 to 0.00323, saving model to modelos_salvos\\pesos.h5\n",
      "36/36 [==============================] - 5s 130ms/step - loss: 0.0032 - mean_absolute_error: 0.0429 - lr: 0.0010\n",
      "Epoch 8/100\n",
      "36/36 [==============================] - ETA: 0s - loss: 0.0029 - mean_absolute_error: 0.0418\n",
      "Epoch 8: loss improved from 0.00323 to 0.00294, saving model to modelos_salvos\\pesos.h5\n",
      "36/36 [==============================] - 5s 134ms/step - loss: 0.0029 - mean_absolute_error: 0.0418 - lr: 0.0010\n",
      "Epoch 9/100\n",
      "36/36 [==============================] - ETA: 0s - loss: 0.0028 - mean_absolute_error: 0.0408\n",
      "Epoch 9: loss improved from 0.00294 to 0.00277, saving model to modelos_salvos\\pesos.h5\n",
      "36/36 [==============================] - 5s 140ms/step - loss: 0.0028 - mean_absolute_error: 0.0408 - lr: 0.0010\n",
      "Epoch 10/100\n",
      "36/36 [==============================] - ETA: 0s - loss: 0.0029 - mean_absolute_error: 0.0412\n",
      "Epoch 10: loss did not improve from 0.00277\n",
      "36/36 [==============================] - 5s 133ms/step - loss: 0.0029 - mean_absolute_error: 0.0412 - lr: 0.0010\n",
      "Epoch 11/100\n",
      "36/36 [==============================] - ETA: 0s - loss: 0.0029 - mean_absolute_error: 0.0423\n",
      "Epoch 11: loss did not improve from 0.00277\n",
      "36/36 [==============================] - 5s 136ms/step - loss: 0.0029 - mean_absolute_error: 0.0423 - lr: 0.0010\n",
      "Epoch 12/100\n",
      "36/36 [==============================] - ETA: 0s - loss: 0.0024 - mean_absolute_error: 0.0378\n",
      "Epoch 12: loss improved from 0.00277 to 0.00242, saving model to modelos_salvos\\pesos.h5\n",
      "36/36 [==============================] - 4s 121ms/step - loss: 0.0024 - mean_absolute_error: 0.0378 - lr: 0.0010\n",
      "Epoch 13/100\n",
      "36/36 [==============================] - ETA: 0s - loss: 0.0024 - mean_absolute_error: 0.0374\n",
      "Epoch 13: loss improved from 0.00242 to 0.00240, saving model to modelos_salvos\\pesos.h5\n",
      "36/36 [==============================] - 4s 120ms/step - loss: 0.0024 - mean_absolute_error: 0.0374 - lr: 0.0010\n",
      "Epoch 14/100\n",
      "36/36 [==============================] - ETA: 0s - loss: 0.0023 - mean_absolute_error: 0.0364\n",
      "Epoch 14: loss improved from 0.00240 to 0.00232, saving model to modelos_salvos\\pesos.h5\n",
      "36/36 [==============================] - 4s 122ms/step - loss: 0.0023 - mean_absolute_error: 0.0364 - lr: 0.0010\n",
      "Epoch 15/100\n",
      "36/36 [==============================] - ETA: 0s - loss: 0.0022 - mean_absolute_error: 0.0357\n",
      "Epoch 15: loss improved from 0.00232 to 0.00219, saving model to modelos_salvos\\pesos.h5\n",
      "36/36 [==============================] - 5s 142ms/step - loss: 0.0022 - mean_absolute_error: 0.0357 - lr: 0.0010\n",
      "Epoch 16/100\n",
      "36/36 [==============================] - ETA: 0s - loss: 0.0021 - mean_absolute_error: 0.0350\n",
      "Epoch 16: loss improved from 0.00219 to 0.00210, saving model to modelos_salvos\\pesos.h5\n",
      "36/36 [==============================] - 5s 140ms/step - loss: 0.0021 - mean_absolute_error: 0.0350 - lr: 0.0010\n",
      "Epoch 17/100\n",
      "36/36 [==============================] - ETA: 0s - loss: 0.0021 - mean_absolute_error: 0.0353\n",
      "Epoch 17: loss did not improve from 0.00210\n",
      "36/36 [==============================] - 5s 141ms/step - loss: 0.0021 - mean_absolute_error: 0.0353 - lr: 0.0010\n",
      "Epoch 18/100\n",
      "36/36 [==============================] - ETA: 0s - loss: 0.0019 - mean_absolute_error: 0.0340\n",
      "Epoch 18: loss improved from 0.00210 to 0.00192, saving model to modelos_salvos\\pesos.h5\n",
      "36/36 [==============================] - 5s 130ms/step - loss: 0.0019 - mean_absolute_error: 0.0340 - lr: 0.0010\n",
      "Epoch 19/100\n",
      "36/36 [==============================] - ETA: 0s - loss: 0.0020 - mean_absolute_error: 0.0340\n",
      "Epoch 19: loss did not improve from 0.00192\n",
      "36/36 [==============================] - 5s 129ms/step - loss: 0.0020 - mean_absolute_error: 0.0340 - lr: 0.0010\n",
      "Epoch 20/100\n",
      "36/36 [==============================] - ETA: 0s - loss: 0.0017 - mean_absolute_error: 0.0315\n",
      "Epoch 20: loss improved from 0.00192 to 0.00173, saving model to modelos_salvos\\pesos.h5\n",
      "36/36 [==============================] - 5s 132ms/step - loss: 0.0017 - mean_absolute_error: 0.0315 - lr: 0.0010\n",
      "Epoch 21/100\n",
      "36/36 [==============================] - ETA: 0s - loss: 0.0017 - mean_absolute_error: 0.0319\n",
      "Epoch 21: loss did not improve from 0.00173\n",
      "36/36 [==============================] - 5s 129ms/step - loss: 0.0017 - mean_absolute_error: 0.0319 - lr: 0.0010\n",
      "Epoch 22/100\n",
      "36/36 [==============================] - ETA: 0s - loss: 0.0018 - mean_absolute_error: 0.0328\n",
      "Epoch 22: loss did not improve from 0.00173\n",
      "36/36 [==============================] - 5s 130ms/step - loss: 0.0018 - mean_absolute_error: 0.0328 - lr: 0.0010\n",
      "Epoch 23/100\n",
      "36/36 [==============================] - ETA: 0s - loss: 0.0020 - mean_absolute_error: 0.0339\n",
      "Epoch 23: loss did not improve from 0.00173\n",
      "36/36 [==============================] - 5s 128ms/step - loss: 0.0020 - mean_absolute_error: 0.0339 - lr: 0.0010\n",
      "Epoch 24/100\n",
      "36/36 [==============================] - ETA: 0s - loss: 0.0016 - mean_absolute_error: 0.0307\n",
      "Epoch 24: loss improved from 0.00173 to 0.00162, saving model to modelos_salvos\\pesos.h5\n",
      "36/36 [==============================] - 5s 137ms/step - loss: 0.0016 - mean_absolute_error: 0.0307 - lr: 0.0010\n",
      "Epoch 25/100\n",
      "36/36 [==============================] - ETA: 0s - loss: 0.0018 - mean_absolute_error: 0.0328\n",
      "Epoch 25: loss did not improve from 0.00162\n",
      "36/36 [==============================] - 4s 125ms/step - loss: 0.0018 - mean_absolute_error: 0.0328 - lr: 0.0010\n",
      "Epoch 26/100\n",
      "36/36 [==============================] - ETA: 0s - loss: 0.0016 - mean_absolute_error: 0.0299\n",
      "Epoch 26: loss improved from 0.00162 to 0.00160, saving model to modelos_salvos\\pesos.h5\n",
      "36/36 [==============================] - 4s 123ms/step - loss: 0.0016 - mean_absolute_error: 0.0299 - lr: 0.0010\n",
      "Epoch 27/100\n",
      "36/36 [==============================] - ETA: 0s - loss: 0.0015 - mean_absolute_error: 0.0293\n",
      "Epoch 27: loss improved from 0.00160 to 0.00146, saving model to modelos_salvos\\pesos.h5\n",
      "36/36 [==============================] - 4s 114ms/step - loss: 0.0015 - mean_absolute_error: 0.0293 - lr: 0.0010\n",
      "Epoch 28/100\n",
      "36/36 [==============================] - ETA: 0s - loss: 0.0017 - mean_absolute_error: 0.0309\n",
      "Epoch 28: loss did not improve from 0.00146\n",
      "36/36 [==============================] - 5s 136ms/step - loss: 0.0017 - mean_absolute_error: 0.0309 - lr: 0.0010\n",
      "Epoch 29/100\n"
     ]
    },
    {
     "name": "stdout",
     "output_type": "stream",
     "text": [
      "36/36 [==============================] - ETA: 0s - loss: 0.0015 - mean_absolute_error: 0.0282\n",
      "Epoch 29: loss did not improve from 0.00146\n",
      "36/36 [==============================] - 5s 132ms/step - loss: 0.0015 - mean_absolute_error: 0.0282 - lr: 0.0010\n",
      "Epoch 30/100\n",
      "36/36 [==============================] - ETA: 0s - loss: 0.0014 - mean_absolute_error: 0.0289\n",
      "Epoch 30: loss improved from 0.00146 to 0.00145, saving model to modelos_salvos\\pesos.h5\n",
      "36/36 [==============================] - 5s 142ms/step - loss: 0.0014 - mean_absolute_error: 0.0289 - lr: 0.0010\n",
      "Epoch 31/100\n",
      "36/36 [==============================] - ETA: 0s - loss: 0.0015 - mean_absolute_error: 0.0290\n",
      "Epoch 31: loss did not improve from 0.00145\n",
      "36/36 [==============================] - 4s 124ms/step - loss: 0.0015 - mean_absolute_error: 0.0290 - lr: 0.0010\n",
      "Epoch 32/100\n",
      "36/36 [==============================] - ETA: 0s - loss: 0.0016 - mean_absolute_error: 0.0304\n",
      "Epoch 32: ReduceLROnPlateau reducing learning rate to 0.00020000000949949026.\n",
      "\n",
      "Epoch 32: loss did not improve from 0.00145\n",
      "36/36 [==============================] - 4s 114ms/step - loss: 0.0016 - mean_absolute_error: 0.0304 - lr: 0.0010\n",
      "Epoch 33/100\n",
      "36/36 [==============================] - ETA: 0s - loss: 0.0013 - mean_absolute_error: 0.0267\n",
      "Epoch 33: loss improved from 0.00145 to 0.00131, saving model to modelos_salvos\\pesos.h5\n",
      "36/36 [==============================] - 4s 114ms/step - loss: 0.0013 - mean_absolute_error: 0.0267 - lr: 2.0000e-04\n",
      "Epoch 34/100\n",
      "36/36 [==============================] - ETA: 0s - loss: 0.0012 - mean_absolute_error: 0.0260\n",
      "Epoch 34: loss improved from 0.00131 to 0.00121, saving model to modelos_salvos\\pesos.h5\n",
      "36/36 [==============================] - 4s 113ms/step - loss: 0.0012 - mean_absolute_error: 0.0260 - lr: 2.0000e-04\n",
      "Epoch 35/100\n",
      "36/36 [==============================] - ETA: 0s - loss: 0.0013 - mean_absolute_error: 0.0263\n",
      "Epoch 35: loss did not improve from 0.00121\n",
      "36/36 [==============================] - 4s 110ms/step - loss: 0.0013 - mean_absolute_error: 0.0263 - lr: 2.0000e-04\n",
      "Epoch 36/100\n",
      "36/36 [==============================] - ETA: 0s - loss: 0.0012 - mean_absolute_error: 0.0261\n",
      "Epoch 36: loss did not improve from 0.00121\n",
      "36/36 [==============================] - 4s 113ms/step - loss: 0.0012 - mean_absolute_error: 0.0261 - lr: 2.0000e-04\n",
      "Epoch 37/100\n",
      "36/36 [==============================] - ETA: 0s - loss: 0.0012 - mean_absolute_error: 0.0256\n",
      "Epoch 37: loss improved from 0.00121 to 0.00118, saving model to modelos_salvos\\pesos.h5\n",
      "36/36 [==============================] - 4s 117ms/step - loss: 0.0012 - mean_absolute_error: 0.0256 - lr: 2.0000e-04\n",
      "Epoch 38/100\n",
      "36/36 [==============================] - ETA: 0s - loss: 0.0011 - mean_absolute_error: 0.0253\n",
      "Epoch 38: loss improved from 0.00118 to 0.00113, saving model to modelos_salvos\\pesos.h5\n",
      "36/36 [==============================] - 4s 119ms/step - loss: 0.0011 - mean_absolute_error: 0.0253 - lr: 2.0000e-04\n",
      "Epoch 39/100\n",
      "36/36 [==============================] - ETA: 0s - loss: 0.0012 - mean_absolute_error: 0.0255\n",
      "Epoch 39: loss did not improve from 0.00113\n",
      "36/36 [==============================] - 4s 112ms/step - loss: 0.0012 - mean_absolute_error: 0.0255 - lr: 2.0000e-04\n",
      "Epoch 40/100\n",
      "36/36 [==============================] - ETA: 0s - loss: 0.0012 - mean_absolute_error: 0.0256\n",
      "Epoch 40: loss did not improve from 0.00113\n",
      "36/36 [==============================] - 4s 117ms/step - loss: 0.0012 - mean_absolute_error: 0.0256 - lr: 2.0000e-04\n",
      "Epoch 41/100\n",
      "36/36 [==============================] - ETA: 0s - loss: 0.0011 - mean_absolute_error: 0.0244\n",
      "Epoch 41: loss improved from 0.00113 to 0.00110, saving model to modelos_salvos\\pesos.h5\n",
      "36/36 [==============================] - 4s 120ms/step - loss: 0.0011 - mean_absolute_error: 0.0244 - lr: 2.0000e-04\n",
      "Epoch 42/100\n",
      "36/36 [==============================] - ETA: 0s - loss: 0.0011 - mean_absolute_error: 0.0249\n",
      "Epoch 42: ReduceLROnPlateau reducing learning rate to 4.0000001899898055e-05.\n",
      "\n",
      "Epoch 42: loss did not improve from 0.00110\n",
      "36/36 [==============================] - 4s 113ms/step - loss: 0.0011 - mean_absolute_error: 0.0249 - lr: 2.0000e-04\n",
      "Epoch 43/100\n",
      "36/36 [==============================] - ETA: 0s - loss: 0.0011 - mean_absolute_error: 0.0247\n",
      "Epoch 43: loss improved from 0.00110 to 0.00109, saving model to modelos_salvos\\pesos.h5\n",
      "36/36 [==============================] - 4s 116ms/step - loss: 0.0011 - mean_absolute_error: 0.0247 - lr: 4.0000e-05\n",
      "Epoch 44/100\n",
      "36/36 [==============================] - ETA: 0s - loss: 0.0012 - mean_absolute_error: 0.0255\n",
      "Epoch 44: loss did not improve from 0.00109\n",
      "36/36 [==============================] - 4s 115ms/step - loss: 0.0012 - mean_absolute_error: 0.0255 - lr: 4.0000e-05\n",
      "Epoch 45/100\n",
      "36/36 [==============================] - ETA: 0s - loss: 0.0012 - mean_absolute_error: 0.0250\n",
      "Epoch 45: loss did not improve from 0.00109\n",
      "36/36 [==============================] - 4s 113ms/step - loss: 0.0012 - mean_absolute_error: 0.0250 - lr: 4.0000e-05\n",
      "Epoch 46/100\n",
      "36/36 [==============================] - ETA: 0s - loss: 0.0011 - mean_absolute_error: 0.0249\n",
      "Epoch 46: loss did not improve from 0.00109\n",
      "36/36 [==============================] - 4s 113ms/step - loss: 0.0011 - mean_absolute_error: 0.0249 - lr: 4.0000e-05\n",
      "Epoch 47/100\n",
      "36/36 [==============================] - ETA: 0s - loss: 0.0012 - mean_absolute_error: 0.0251\n",
      "Epoch 47: ReduceLROnPlateau reducing learning rate to 8.000000525498762e-06.\n",
      "\n",
      "Epoch 47: loss did not improve from 0.00109\n",
      "36/36 [==============================] - 4s 114ms/step - loss: 0.0012 - mean_absolute_error: 0.0251 - lr: 4.0000e-05\n",
      "Epoch 48/100\n",
      "36/36 [==============================] - ETA: 0s - loss: 0.0012 - mean_absolute_error: 0.0256\n",
      "Epoch 48: loss did not improve from 0.00109\n",
      "36/36 [==============================] - 5s 150ms/step - loss: 0.0012 - mean_absolute_error: 0.0256 - lr: 8.0000e-06\n",
      "Epoch 49/100\n",
      "36/36 [==============================] - ETA: 0s - loss: 0.0012 - mean_absolute_error: 0.0256\n",
      "Epoch 49: loss did not improve from 0.00109\n",
      "36/36 [==============================] - 5s 144ms/step - loss: 0.0012 - mean_absolute_error: 0.0256 - lr: 8.0000e-06\n",
      "Epoch 50/100\n",
      "36/36 [==============================] - ETA: 0s - loss: 0.0012 - mean_absolute_error: 0.0255\n",
      "Epoch 50: loss did not improve from 0.00109\n",
      "36/36 [==============================] - 5s 127ms/step - loss: 0.0012 - mean_absolute_error: 0.0255 - lr: 8.0000e-06\n",
      "Epoch 51/100\n",
      "36/36 [==============================] - ETA: 0s - loss: 0.0012 - mean_absolute_error: 0.0252\n",
      "Epoch 51: loss did not improve from 0.00109\n",
      "36/36 [==============================] - 5s 127ms/step - loss: 0.0012 - mean_absolute_error: 0.0252 - lr: 8.0000e-06\n",
      "Epoch 52/100\n",
      "36/36 [==============================] - ETA: 0s - loss: 0.0012 - mean_absolute_error: 0.0249\n",
      "Epoch 52: ReduceLROnPlateau reducing learning rate to 1.6000001778593287e-06.\n",
      "\n",
      "Epoch 52: loss did not improve from 0.00109\n",
      "36/36 [==============================] - 5s 128ms/step - loss: 0.0012 - mean_absolute_error: 0.0249 - lr: 8.0000e-06\n",
      "Epoch 53/100\n",
      "36/36 [==============================] - ETA: 0s - loss: 0.0011 - mean_absolute_error: 0.0242\n",
      "Epoch 53: loss improved from 0.00109 to 0.00108, saving model to modelos_salvos\\pesos.h5\n",
      "36/36 [==============================] - 5s 132ms/step - loss: 0.0011 - mean_absolute_error: 0.0242 - lr: 1.6000e-06\n",
      "Epoch 54/100\n",
      "36/36 [==============================] - ETA: 0s - loss: 0.0012 - mean_absolute_error: 0.0254\n",
      "Epoch 54: loss did not improve from 0.00108\n",
      "36/36 [==============================] - 5s 127ms/step - loss: 0.0012 - mean_absolute_error: 0.0254 - lr: 1.6000e-06\n",
      "Epoch 55/100\n",
      "36/36 [==============================] - ETA: 0s - loss: 0.0012 - mean_absolute_error: 0.0255\n",
      "Epoch 55: loss did not improve from 0.00108\n",
      "36/36 [==============================] - 5s 130ms/step - loss: 0.0012 - mean_absolute_error: 0.0255 - lr: 1.6000e-06\n",
      "Epoch 56/100\n",
      "36/36 [==============================] - ETA: 0s - loss: 0.0011 - mean_absolute_error: 0.0245\n",
      "Epoch 56: loss did not improve from 0.00108\n",
      "36/36 [==============================] - 4s 125ms/step - loss: 0.0011 - mean_absolute_error: 0.0245 - lr: 1.6000e-06\n",
      "Epoch 57/100\n"
     ]
    },
    {
     "name": "stdout",
     "output_type": "stream",
     "text": [
      "36/36 [==============================] - ETA: 0s - loss: 0.0012 - mean_absolute_error: 0.0258\n",
      "Epoch 57: loss did not improve from 0.00108\n",
      "36/36 [==============================] - 4s 118ms/step - loss: 0.0012 - mean_absolute_error: 0.0258 - lr: 1.6000e-06\n",
      "Epoch 58/100\n",
      "36/36 [==============================] - ETA: 0s - loss: 0.0011 - mean_absolute_error: 0.0248\n",
      "Epoch 58: ReduceLROnPlateau reducing learning rate to 3.200000264769187e-07.\n",
      "\n",
      "Epoch 58: loss did not improve from 0.00108\n",
      "36/36 [==============================] - 4s 118ms/step - loss: 0.0011 - mean_absolute_error: 0.0248 - lr: 1.6000e-06\n",
      "Epoch 59/100\n",
      "36/36 [==============================] - ETA: 0s - loss: 0.0011 - mean_absolute_error: 0.0250\n",
      "Epoch 59: loss did not improve from 0.00108\n",
      "36/36 [==============================] - 4s 113ms/step - loss: 0.0011 - mean_absolute_error: 0.0250 - lr: 3.2000e-07\n",
      "Epoch 60/100\n",
      "36/36 [==============================] - ETA: 0s - loss: 0.0011 - mean_absolute_error: 0.0246\n",
      "Epoch 60: loss did not improve from 0.00108\n",
      "36/36 [==============================] - 4s 117ms/step - loss: 0.0011 - mean_absolute_error: 0.0246 - lr: 3.2000e-07\n",
      "Epoch 61/100\n",
      "36/36 [==============================] - ETA: 0s - loss: 0.0011 - mean_absolute_error: 0.0245\n",
      "Epoch 61: loss did not improve from 0.00108\n",
      "36/36 [==============================] - 4s 115ms/step - loss: 0.0011 - mean_absolute_error: 0.0245 - lr: 3.2000e-07\n",
      "Epoch 62/100\n",
      "36/36 [==============================] - ETA: 0s - loss: 0.0012 - mean_absolute_error: 0.0253\n",
      "Epoch 62: loss did not improve from 0.00108\n",
      "36/36 [==============================] - 4s 113ms/step - loss: 0.0012 - mean_absolute_error: 0.0253 - lr: 3.2000e-07\n",
      "Epoch 63/100\n",
      "36/36 [==============================] - ETA: 0s - loss: 0.0011 - mean_absolute_error: 0.0249\n",
      "Epoch 63: ReduceLROnPlateau reducing learning rate to 6.400000529538374e-08.\n",
      "\n",
      "Epoch 63: loss did not improve from 0.00108\n",
      "36/36 [==============================] - 4s 115ms/step - loss: 0.0011 - mean_absolute_error: 0.0249 - lr: 3.2000e-07\n",
      "Epoch 63: early stopping\n"
     ]
    },
    {
     "data": {
      "text/plain": [
       "<keras.callbacks.History at 0x27ed5b3f6a0>"
      ]
     },
     "execution_count": 4,
     "metadata": {},
     "output_type": "execute_result"
    }
   ],
   "source": [
    "regressor = Sequential()\n",
    "\n",
    "regressor.add(LSTM(units = 100, return_sequences = True, input_shape = (previsores.shape[1], 6)))\n",
    "regressor.add(Dropout(0.3))\n",
    "\n",
    "regressor.add(LSTM(units = 50, return_sequences = True))\n",
    "regressor.add(Dropout(0.3))\n",
    "\n",
    "regressor.add(LSTM(units = 50, return_sequences = True))\n",
    "regressor.add(Dropout(0.3))\n",
    "\n",
    "regressor.add(LSTM(units = 50))\n",
    "regressor.add(Dropout(0.3))\n",
    "\n",
    "regressor.add(Dense(units = 1, activation = 'sigmoid')) # porque os valores estao entre 0 e 1 (normlizados)\n",
    "\n",
    "regressor.compile(optimizer = 'adam', loss = 'mean_squared_error', \n",
    "                  metrics = ['mean_absolute_error'])\n",
    "\n",
    "es = EarlyStopping(monitor = 'loss', min_delta = 1e-10, patience = 10, verbose = 1)\n",
    "#parametro monitor é usado para escolher qual parametro do treianmento sera monitorado\n",
    "# min delta e o intervalo minimo para ser considerado melhora\n",
    "#patience é o numero de epocas a se tolerar sem melhoria do eresultado\n",
    "#verbose é para mostrar na tela o avanço do treinamento\n",
    "\n",
    "rlr = ReduceLROnPlateau(monitor = 'loss', factor = 0.2, patience = 5, verbose = 1)\n",
    "#reduz a metrica de aprendizagem quando a metrica para de melhorar\n",
    "#factor é o valor que a learning rate será multiplicada \n",
    "\n",
    "# o proximo será um recurso que salva o modelo a cada época (criando os checkpoints)\n",
    "mcp = ModelCheckpoint(filepath = 'modelos_salvos/pesos.h5', monitor = 'loss', \n",
    "                      save_best_only=True, verbose = 1)\n",
    "\n",
    "regressor.fit(previsores, preco_real, epochs=100, batch_size = 32, \n",
    "              callbacks=(es, rlr, mcp))"
   ]
  },
  {
   "cell_type": "code",
   "execution_count": 5,
   "id": "74a4afd3",
   "metadata": {
    "ExecuteTime": {
     "end_time": "2022-06-10T02:09:13.042911Z",
     "start_time": "2022-06-10T02:09:12.835671Z"
    }
   },
   "outputs": [],
   "source": [
    "base_teste = pd.read_csv('petr4_teste.csv')\n",
    "preco_real_teste = base_teste.iloc[:, 1:2].values\n",
    "frames = [base, base_teste]\n",
    "base_completa = pd.concat(frames)\n",
    "base_completa = base_completa.drop('Date', axis=1)"
   ]
  },
  {
   "cell_type": "code",
   "execution_count": 7,
   "id": "1d2b25ae",
   "metadata": {
    "ExecuteTime": {
     "end_time": "2022-06-10T02:09:42.823211Z",
     "start_time": "2022-06-10T02:09:42.811255Z"
    }
   },
   "outputs": [],
   "source": [
    "entradas = base_completa[len(base_completa) - len(base_teste) - 90:].values\n",
    "entradas = normalizador.transform(entradas)"
   ]
  },
  {
   "cell_type": "code",
   "execution_count": 13,
   "id": "cdee381e",
   "metadata": {
    "ExecuteTime": {
     "end_time": "2022-06-10T02:14:31.615580Z",
     "start_time": "2022-06-10T02:14:31.597134Z"
    }
   },
   "outputs": [],
   "source": [
    "X_teste = []\n",
    "for i in range(90,112):\n",
    "    X_teste.append(entradas[i-90:i, 0:6])"
   ]
  },
  {
   "cell_type": "code",
   "execution_count": 14,
   "id": "3291404e",
   "metadata": {
    "ExecuteTime": {
     "end_time": "2022-06-10T02:14:49.814875Z",
     "start_time": "2022-06-10T02:14:49.801125Z"
    }
   },
   "outputs": [],
   "source": [
    "X_teste = np.array(X_teste)"
   ]
  },
  {
   "cell_type": "code",
   "execution_count": 15,
   "id": "5d8f7911",
   "metadata": {
    "ExecuteTime": {
     "end_time": "2022-06-10T02:16:13.405387Z",
     "start_time": "2022-06-10T02:16:11.819724Z"
    }
   },
   "outputs": [
    {
     "name": "stdout",
     "output_type": "stream",
     "text": [
      "1/1 [==============================] - 2s 2s/step\n"
     ]
    }
   ],
   "source": [
    "previsoes = regressor.predict(X_teste)"
   ]
  },
  {
   "cell_type": "code",
   "execution_count": 18,
   "id": "51ac8b52",
   "metadata": {
    "ExecuteTime": {
     "end_time": "2022-06-10T02:18:56.638478Z",
     "start_time": "2022-06-10T02:18:56.620001Z"
    }
   },
   "outputs": [],
   "source": [
    "previsoes = normalizador_previsao.inverse_transform(previsoes)"
   ]
  },
  {
   "cell_type": "code",
   "execution_count": 20,
   "id": "c73f0c35",
   "metadata": {
    "ExecuteTime": {
     "end_time": "2022-06-10T02:19:53.701252Z",
     "start_time": "2022-06-10T02:19:53.688545Z"
    }
   },
   "outputs": [
    {
     "name": "stdout",
     "output_type": "stream",
     "text": [
      "17.688845\n",
      "17.87454563636364\n"
     ]
    }
   ],
   "source": [
    "print(previsoes.mean())\n",
    "print(preco_real_teste.mean())"
   ]
  },
  {
   "cell_type": "code",
   "execution_count": 21,
   "id": "6d1a3e4d",
   "metadata": {
    "ExecuteTime": {
     "end_time": "2022-06-10T02:23:11.855752Z",
     "start_time": "2022-06-10T02:23:11.424139Z"
    }
   },
   "outputs": [
    {
     "data": {
      "image/png": "[encoded data removed]",
      "text/plain": [
       "<Figure size 432x288 with 1 Axes>"
      ]
     },
     "metadata": {
      "needs_background": "light"
     },
     "output_type": "display_data"
    }
   ],
   "source": [
    "plt.plot(preco_real_teste, color = 'red', label = 'Preço real')\n",
    "plt.plot(previsoes, color = 'blue', label = 'Previsões')\n",
    "plt.title ('Previsão preço das ações')\n",
    "plt.xlabel('Tempo')\n",
    "plt.ylabel('Valor Yahoo')\n",
    "plt.legend()\n",
    "plt.show()"
   ]
  },
  {
   "cell_type": "code",
   "execution_count": null,
   "id": "1be8248c",
   "metadata": {},
   "outputs": [],
   "source": []
  }
 ],
 "metadata": {
  "kernelspec": {
   "display_name": "Python 3 (ipykernel)",
   "language": "python",
   "name": "python3"
  },
  "language_info": {
   "codemirror_mode": {
    "name": "ipython",
    "version": 3
   },
   "file_extension": ".py",
   "mimetype": "text/x-python",
   "name": "python",
   "nbconvert_exporter": "python",
   "pygments_lexer": "ipython3",
   "version": "3.10.4"
  },
  "toc": {
   "base_numbering": 1,
   "nav_menu": {},
   "number_sections": true,
   "sideBar": true,
   "skip_h1_title": false,
   "title_cell": "Table of Contents",
   "title_sidebar": "Contents",
   "toc_cell": false,
   "toc_position": {},
   "toc_section_display": true,
   "toc_window_display": true
  },
  "varInspector": {
   "cols": {
    "lenName": 16,
    "lenType": 16,
    "lenVar": 40
   },
   "kernels_config": {
    "python": {
     "delete_cmd_postfix": "",
     "delete_cmd_prefix": "del ",
     "library": "var_list.py",
     "varRefreshCmd": "print(var_dic_list())"
    },
    "r": {
     "delete_cmd_postfix": ") ",
     "delete_cmd_prefix": "rm(",
     "library": "var_list.r",
     "varRefreshCmd": "cat(var_dic_list()) "
    }
   },
   "position": {
    "height": "307.639px",
    "left": "2.98264px",
    "right": "20px",
    "top": "104.979px",
    "width": "287.292px"
   },
   "types_to_exclude": [
    "module",
    "function",
    "builtin_function_or_method",
    "instance",
    "_Feature"
   ],
   "window_display": true
  }
 },
 "nbformat": 4,
 "nbformat_minor": 5
}
