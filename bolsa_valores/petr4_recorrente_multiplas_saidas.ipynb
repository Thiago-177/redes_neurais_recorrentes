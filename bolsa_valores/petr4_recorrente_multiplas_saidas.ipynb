{
 "cells": [
  {
   "cell_type": "code",
   "execution_count": 1,
   "id": "c940c08b",
   "metadata": {
    "ExecuteTime": {
     "end_time": "2022-06-10T02:31:29.279156Z",
     "start_time": "2022-06-10T02:31:24.734510Z"
    }
   },
   "outputs": [],
   "source": [
    "from keras.models import Sequential\n",
    "from keras.layers import Dense, Dropout, LSTM\n",
    "from sklearn.preprocessing import MinMaxScaler\n",
    "import numpy as np \n",
    "import pandas as pd\n",
    "import matplotlib.pyplot as plt\n",
    "from keras.callbacks import EarlyStopping, ReduceLROnPlateau, ModelCheckpoint"
   ]
  },
  {
   "cell_type": "code",
   "execution_count": 2,
   "id": "a5f60d8f",
   "metadata": {
    "ExecuteTime": {
     "end_time": "2022-06-10T02:32:22.526889Z",
     "start_time": "2022-06-10T02:32:22.509957Z"
    }
   },
   "outputs": [],
   "source": [
    "base = pd.read_csv('petr4_treinamento.csv')\n",
    "base = base.dropna()\n",
    "base_treinamento = base.iloc[:, 1:2].values"
   ]
  },
  {
   "cell_type": "code",
   "execution_count": 3,
   "id": "d0c9dd27",
   "metadata": {
    "ExecuteTime": {
     "end_time": "2022-06-10T14:32:38.122330Z",
     "start_time": "2022-06-10T14:32:38.043908Z"
    }
   },
   "outputs": [],
   "source": [
    "base_valor_maximo = base.iloc[:, 2:3].values"
   ]
  },
  {
   "cell_type": "code",
   "execution_count": 4,
   "id": "88989f2d",
   "metadata": {
    "ExecuteTime": {
     "end_time": "2022-06-10T14:33:33.720023Z",
     "start_time": "2022-06-10T14:33:33.663482Z"
    }
   },
   "outputs": [],
   "source": [
    "normalizador = MinMaxScaler(feature_range = (0,1))\n",
    "base_treinamento_normalizada = normalizador.fit_transform(base_treinamento)"
   ]
  },
  {
   "cell_type": "code",
   "execution_count": 12,
   "id": "910340df",
   "metadata": {
    "ExecuteTime": {
     "end_time": "2022-06-10T14:49:17.729286Z",
     "start_time": "2022-06-10T14:49:17.717322Z"
    }
   },
   "outputs": [],
   "source": [
    "base_valor_maximo_normalizada = normalizador.fit_transform(base_valor_maximo)"
   ]
  },
  {
   "cell_type": "markdown",
   "id": "875e1b60",
   "metadata": {},
   "source": [
    "### Aqui é um código padrão para preparar a base de dados antes de ser treinada\n",
    "- No caso estamos trabalhando com apenas um atributo previsor (coluna Open), por isso o 0 na 5 linha"
   ]
  },
  {
   "cell_type": "code",
   "execution_count": 13,
   "id": "8928e50a",
   "metadata": {
    "ExecuteTime": {
     "end_time": "2022-06-10T14:49:29.695552Z",
     "start_time": "2022-06-10T14:49:29.676749Z"
    }
   },
   "outputs": [],
   "source": [
    "previsores = []\n",
    "preco_real1 = []\n",
    "preco_real2 = []\n",
    "for i in range(90, 1242):\n",
    "    previsores.append(base_treinamento_normalizada[i-90:i, 0])\n",
    "    preco_real1.append(base_treinamento_normalizada[i, 0])\n",
    "    preco_real2.append(base_valor_maximo_normalizada[i, 0])\n",
    "\n",
    "previsores, preco_real1, preco_real2 = np.array(previsores), np.array(preco_real1), np.array(preco_real2)\n",
    "previsores = np.reshape(previsores, (previsores.shape[0], previsores.shape[1], 1))"
   ]
  },
  {
   "cell_type": "markdown",
   "id": "6bedb873",
   "metadata": {},
   "source": [
    "Unindo as 2 bases de preco real "
   ]
  },
  {
   "cell_type": "code",
   "execution_count": 14,
   "id": "48494e92",
   "metadata": {
    "ExecuteTime": {
     "end_time": "2022-06-10T14:49:32.974581Z",
     "start_time": "2022-06-10T14:49:32.959372Z"
    }
   },
   "outputs": [],
   "source": [
    "preco_real = np.column_stack((preco_real1, preco_real2))"
   ]
  },
  {
   "cell_type": "code",
   "execution_count": 15,
   "id": "f5ee0e5f",
   "metadata": {
    "ExecuteTime": {
     "end_time": "2022-06-10T14:59:18.228467Z",
     "start_time": "2022-06-10T14:52:09.396971Z"
    }
   },
   "outputs": [
    {
     "name": "stdout",
     "output_type": "stream",
     "text": [
      "Epoch 1/100\n",
      "36/36 [==============================] - 10s 93ms/step - loss: 0.0349 - mean_absolute_error: 0.1391\n",
      "Epoch 2/100\n",
      "36/36 [==============================] - 3s 92ms/step - loss: 0.0177 - mean_absolute_error: 0.1027\n",
      "Epoch 3/100\n",
      "36/36 [==============================] - 3s 89ms/step - loss: 0.0135 - mean_absolute_error: 0.0900\n",
      "Epoch 4/100\n",
      "36/36 [==============================] - 3s 92ms/step - loss: 0.0123 - mean_absolute_error: 0.0872\n",
      "Epoch 5/100\n",
      "36/36 [==============================] - 4s 116ms/step - loss: 0.0112 - mean_absolute_error: 0.0814\n",
      "Epoch 6/100\n",
      "36/36 [==============================] - 5s 149ms/step - loss: 0.0098 - mean_absolute_error: 0.0745\n",
      "Epoch 7/100\n",
      "36/36 [==============================] - 4s 123ms/step - loss: 0.0090 - mean_absolute_error: 0.0727\n",
      "Epoch 8/100\n",
      "36/36 [==============================] - 4s 115ms/step - loss: 0.0082 - mean_absolute_error: 0.0678\n",
      "Epoch 9/100\n",
      "36/36 [==============================] - 4s 114ms/step - loss: 0.0080 - mean_absolute_error: 0.0673\n",
      "Epoch 10/100\n",
      "36/36 [==============================] - 4s 114ms/step - loss: 0.0069 - mean_absolute_error: 0.0643\n",
      "Epoch 11/100\n",
      "36/36 [==============================] - 4s 108ms/step - loss: 0.0066 - mean_absolute_error: 0.0617\n",
      "Epoch 12/100\n",
      "36/36 [==============================] - 4s 108ms/step - loss: 0.0064 - mean_absolute_error: 0.0608\n",
      "Epoch 13/100\n",
      "36/36 [==============================] - 4s 108ms/step - loss: 0.0063 - mean_absolute_error: 0.0599\n",
      "Epoch 14/100\n",
      "36/36 [==============================] - 4s 109ms/step - loss: 0.0062 - mean_absolute_error: 0.0582\n",
      "Epoch 15/100\n",
      "36/36 [==============================] - 4s 107ms/step - loss: 0.0052 - mean_absolute_error: 0.0548\n",
      "Epoch 16/100\n",
      "36/36 [==============================] - 4s 113ms/step - loss: 0.0058 - mean_absolute_error: 0.0583\n",
      "Epoch 17/100\n",
      "36/36 [==============================] - 4s 110ms/step - loss: 0.0048 - mean_absolute_error: 0.0518\n",
      "Epoch 18/100\n",
      "36/36 [==============================] - 4s 108ms/step - loss: 0.0051 - mean_absolute_error: 0.0529\n",
      "Epoch 19/100\n",
      "36/36 [==============================] - 4s 106ms/step - loss: 0.0049 - mean_absolute_error: 0.0518\n",
      "Epoch 20/100\n",
      "36/36 [==============================] - 4s 109ms/step - loss: 0.0047 - mean_absolute_error: 0.0522\n",
      "Epoch 21/100\n",
      "36/36 [==============================] - 4s 110ms/step - loss: 0.0044 - mean_absolute_error: 0.0501\n",
      "Epoch 22/100\n",
      "36/36 [==============================] - 4s 109ms/step - loss: 0.0044 - mean_absolute_error: 0.0505\n",
      "Epoch 23/100\n",
      "36/36 [==============================] - 4s 112ms/step - loss: 0.0039 - mean_absolute_error: 0.0473\n",
      "Epoch 24/100\n",
      "36/36 [==============================] - 4s 110ms/step - loss: 0.0038 - mean_absolute_error: 0.0474\n",
      "Epoch 25/100\n",
      "36/36 [==============================] - 5s 127ms/step - loss: 0.0038 - mean_absolute_error: 0.0474\n",
      "Epoch 26/100\n",
      "36/36 [==============================] - 4s 114ms/step - loss: 0.0038 - mean_absolute_error: 0.0471\n",
      "Epoch 27/100\n",
      "36/36 [==============================] - 4s 110ms/step - loss: 0.0038 - mean_absolute_error: 0.0477\n",
      "Epoch 28/100\n",
      "36/36 [==============================] - 4s 115ms/step - loss: 0.0039 - mean_absolute_error: 0.0474\n",
      "Epoch 29/100\n",
      "36/36 [==============================] - 4s 111ms/step - loss: 0.0032 - mean_absolute_error: 0.0431\n",
      "Epoch 30/100\n",
      "36/36 [==============================] - 4s 124ms/step - loss: 0.0034 - mean_absolute_error: 0.0435\n",
      "Epoch 31/100\n",
      "36/36 [==============================] - 4s 113ms/step - loss: 0.0032 - mean_absolute_error: 0.0437\n",
      "Epoch 32/100\n",
      "36/36 [==============================] - 4s 114ms/step - loss: 0.0032 - mean_absolute_error: 0.0426\n",
      "Epoch 33/100\n",
      "36/36 [==============================] - 4s 116ms/step - loss: 0.0032 - mean_absolute_error: 0.0426\n",
      "Epoch 34/100\n",
      "36/36 [==============================] - 4s 123ms/step - loss: 0.0029 - mean_absolute_error: 0.0414\n",
      "Epoch 35/100\n",
      "36/36 [==============================] - 4s 110ms/step - loss: 0.0029 - mean_absolute_error: 0.0408\n",
      "Epoch 36/100\n",
      "36/36 [==============================] - 4s 124ms/step - loss: 0.0029 - mean_absolute_error: 0.0394\n",
      "Epoch 37/100\n",
      "36/36 [==============================] - 4s 120ms/step - loss: 0.0029 - mean_absolute_error: 0.0400\n",
      "Epoch 38/100\n",
      "36/36 [==============================] - 4s 110ms/step - loss: 0.0026 - mean_absolute_error: 0.0397\n",
      "Epoch 39/100\n",
      "36/36 [==============================] - 4s 109ms/step - loss: 0.0027 - mean_absolute_error: 0.0402\n",
      "Epoch 40/100\n",
      "36/36 [==============================] - 4s 124ms/step - loss: 0.0027 - mean_absolute_error: 0.0401\n",
      "Epoch 41/100\n",
      "36/36 [==============================] - 4s 121ms/step - loss: 0.0025 - mean_absolute_error: 0.0376\n",
      "Epoch 42/100\n",
      "36/36 [==============================] - 5s 126ms/step - loss: 0.0027 - mean_absolute_error: 0.0393\n",
      "Epoch 43/100\n",
      "36/36 [==============================] - 5s 126ms/step - loss: 0.0027 - mean_absolute_error: 0.0396\n",
      "Epoch 44/100\n",
      "36/36 [==============================] - 4s 107ms/step - loss: 0.0024 - mean_absolute_error: 0.0371\n",
      "Epoch 45/100\n",
      "36/36 [==============================] - 4s 118ms/step - loss: 0.0022 - mean_absolute_error: 0.0361\n",
      "Epoch 46/100\n",
      "36/36 [==============================] - 5s 131ms/step - loss: 0.0024 - mean_absolute_error: 0.0367\n",
      "Epoch 47/100\n",
      "36/36 [==============================] - 4s 120ms/step - loss: 0.0024 - mean_absolute_error: 0.0375\n",
      "Epoch 48/100\n",
      "36/36 [==============================] - 4s 123ms/step - loss: 0.0025 - mean_absolute_error: 0.0378\n",
      "Epoch 49/100\n",
      "36/36 [==============================] - 4s 123ms/step - loss: 0.0023 - mean_absolute_error: 0.0360\n",
      "Epoch 50/100\n",
      "36/36 [==============================] - 4s 110ms/step - loss: 0.0022 - mean_absolute_error: 0.0352\n",
      "Epoch 51/100\n",
      "36/36 [==============================] - 4s 111ms/step - loss: 0.0020 - mean_absolute_error: 0.0343\n",
      "Epoch 52/100\n",
      "36/36 [==============================] - 4s 117ms/step - loss: 0.0022 - mean_absolute_error: 0.0351\n",
      "Epoch 53/100\n",
      "36/36 [==============================] - 4s 111ms/step - loss: 0.0022 - mean_absolute_error: 0.0361\n",
      "Epoch 54/100\n",
      "36/36 [==============================] - 4s 116ms/step - loss: 0.0020 - mean_absolute_error: 0.0340\n",
      "Epoch 55/100\n",
      "36/36 [==============================] - 5s 140ms/step - loss: 0.0020 - mean_absolute_error: 0.0346\n",
      "Epoch 56/100\n",
      "36/36 [==============================] - 5s 127ms/step - loss: 0.0022 - mean_absolute_error: 0.0357\n",
      "Epoch 57/100\n",
      "36/36 [==============================] - 5s 141ms/step - loss: 0.0022 - mean_absolute_error: 0.0350\n",
      "Epoch 58/100\n",
      "36/36 [==============================] - 5s 141ms/step - loss: 0.0020 - mean_absolute_error: 0.0334\n",
      "Epoch 59/100\n",
      "36/36 [==============================] - 5s 139ms/step - loss: 0.0023 - mean_absolute_error: 0.0362\n",
      "Epoch 60/100\n",
      "36/36 [==============================] - 5s 134ms/step - loss: 0.0022 - mean_absolute_error: 0.0354\n",
      "Epoch 61/100\n",
      "36/36 [==============================] - 5s 134ms/step - loss: 0.0020 - mean_absolute_error: 0.0334\n",
      "Epoch 62/100\n",
      "36/36 [==============================] - 4s 121ms/step - loss: 0.0019 - mean_absolute_error: 0.0341\n",
      "Epoch 63/100\n",
      "36/36 [==============================] - 4s 113ms/step - loss: 0.0021 - mean_absolute_error: 0.0334\n",
      "Epoch 64/100\n",
      "36/36 [==============================] - 4s 120ms/step - loss: 0.0018 - mean_absolute_error: 0.0321\n",
      "Epoch 65/100\n",
      "36/36 [==============================] - 4s 116ms/step - loss: 0.0019 - mean_absolute_error: 0.0329\n",
      "Epoch 66/100\n",
      "36/36 [==============================] - 5s 127ms/step - loss: 0.0018 - mean_absolute_error: 0.0325\n",
      "Epoch 67/100\n",
      "36/36 [==============================] - 4s 116ms/step - loss: 0.0018 - mean_absolute_error: 0.0325\n",
      "Epoch 68/100\n",
      "36/36 [==============================] - 4s 116ms/step - loss: 0.0019 - mean_absolute_error: 0.0331\n",
      "Epoch 69/100\n",
      "36/36 [==============================] - 4s 117ms/step - loss: 0.0018 - mean_absolute_error: 0.0317\n",
      "Epoch 70/100\n",
      "36/36 [==============================] - 4s 119ms/step - loss: 0.0018 - mean_absolute_error: 0.0324\n",
      "Epoch 71/100\n",
      "36/36 [==============================] - 5s 132ms/step - loss: 0.0019 - mean_absolute_error: 0.0320\n",
      "Epoch 72/100\n",
      "36/36 [==============================] - 4s 110ms/step - loss: 0.0018 - mean_absolute_error: 0.0316\n",
      "Epoch 73/100\n"
     ]
    },
    {
     "name": "stdout",
     "output_type": "stream",
     "text": [
      "36/36 [==============================] - 4s 117ms/step - loss: 0.0020 - mean_absolute_error: 0.0337\n",
      "Epoch 74/100\n",
      "36/36 [==============================] - 4s 114ms/step - loss: 0.0017 - mean_absolute_error: 0.0310\n",
      "Epoch 75/100\n",
      "36/36 [==============================] - 4s 117ms/step - loss: 0.0018 - mean_absolute_error: 0.0319\n",
      "Epoch 76/100\n",
      "36/36 [==============================] - 4s 123ms/step - loss: 0.0017 - mean_absolute_error: 0.0311\n",
      "Epoch 77/100\n",
      "36/36 [==============================] - 4s 116ms/step - loss: 0.0017 - mean_absolute_error: 0.0302\n",
      "Epoch 78/100\n",
      "36/36 [==============================] - 5s 129ms/step - loss: 0.0017 - mean_absolute_error: 0.0310\n",
      "Epoch 79/100\n",
      "36/36 [==============================] - 5s 125ms/step - loss: 0.0018 - mean_absolute_error: 0.0316\n",
      "Epoch 80/100\n",
      "36/36 [==============================] - 5s 136ms/step - loss: 0.0018 - mean_absolute_error: 0.0321\n",
      "Epoch 81/100\n",
      "36/36 [==============================] - 5s 129ms/step - loss: 0.0017 - mean_absolute_error: 0.0312\n",
      "Epoch 82/100\n",
      "36/36 [==============================] - 4s 120ms/step - loss: 0.0017 - mean_absolute_error: 0.0314\n",
      "Epoch 83/100\n",
      "36/36 [==============================] - 4s 121ms/step - loss: 0.0016 - mean_absolute_error: 0.0298\n",
      "Epoch 84/100\n",
      "36/36 [==============================] - 4s 110ms/step - loss: 0.0015 - mean_absolute_error: 0.0295\n",
      "Epoch 85/100\n",
      "36/36 [==============================] - 4s 110ms/step - loss: 0.0017 - mean_absolute_error: 0.0307\n",
      "Epoch 86/100\n",
      "36/36 [==============================] - 4s 110ms/step - loss: 0.0016 - mean_absolute_error: 0.0305\n",
      "Epoch 87/100\n",
      "36/36 [==============================] - 4s 109ms/step - loss: 0.0016 - mean_absolute_error: 0.0299\n",
      "Epoch 88/100\n",
      "36/36 [==============================] - 4s 111ms/step - loss: 0.0016 - mean_absolute_error: 0.0305\n",
      "Epoch 89/100\n",
      "36/36 [==============================] - 4s 110ms/step - loss: 0.0017 - mean_absolute_error: 0.0309\n",
      "Epoch 90/100\n",
      "36/36 [==============================] - 4s 108ms/step - loss: 0.0016 - mean_absolute_error: 0.0300\n",
      "Epoch 91/100\n",
      "36/36 [==============================] - 4s 109ms/step - loss: 0.0016 - mean_absolute_error: 0.0303\n",
      "Epoch 92/100\n",
      "36/36 [==============================] - 4s 110ms/step - loss: 0.0016 - mean_absolute_error: 0.0302\n",
      "Epoch 93/100\n",
      "36/36 [==============================] - 4s 111ms/step - loss: 0.0017 - mean_absolute_error: 0.0311\n",
      "Epoch 94/100\n",
      "36/36 [==============================] - 4s 111ms/step - loss: 0.0015 - mean_absolute_error: 0.0292\n",
      "Epoch 95/100\n",
      "36/36 [==============================] - 4s 109ms/step - loss: 0.0015 - mean_absolute_error: 0.0291\n",
      "Epoch 96/100\n",
      "36/36 [==============================] - 4s 109ms/step - loss: 0.0017 - mean_absolute_error: 0.0306\n",
      "Epoch 97/100\n",
      "36/36 [==============================] - 4s 111ms/step - loss: 0.0017 - mean_absolute_error: 0.0304\n",
      "Epoch 98/100\n",
      "36/36 [==============================] - 4s 112ms/step - loss: 0.0016 - mean_absolute_error: 0.0295\n",
      "Epoch 99/100\n",
      "36/36 [==============================] - 4s 111ms/step - loss: 0.0016 - mean_absolute_error: 0.0302\n",
      "Epoch 100/100\n",
      "36/36 [==============================] - 4s 113ms/step - loss: 0.0015 - mean_absolute_error: 0.0286\n"
     ]
    },
    {
     "data": {
      "text/plain": [
       "<keras.callbacks.History at 0x19968c22440>"
      ]
     },
     "execution_count": 15,
     "metadata": {},
     "output_type": "execute_result"
    }
   ],
   "source": [
    "regressor = Sequential()\n",
    "\n",
    "regressor.add(LSTM(units = 100, return_sequences = True, input_shape = (previsores.shape[1], 1)))\n",
    "regressor.add(Dropout(0.3))\n",
    "\n",
    "regressor.add(LSTM(units = 50, return_sequences = True))\n",
    "regressor.add(Dropout(0.3))\n",
    "\n",
    "regressor.add(LSTM(units = 50, return_sequences = True))\n",
    "regressor.add(Dropout(0.3))\n",
    "\n",
    "regressor.add(LSTM(units = 50))\n",
    "regressor.add(Dropout(0.3))\n",
    "\n",
    "#agora há 2 saídas\n",
    "regressor.add(Dense(units = 2, activation = 'linear')) # porque os valores estao entre 0 e 1 (normlizados)\n",
    "\n",
    "regressor.compile(optimizer = 'rmsprop', loss = 'mean_squared_error', \n",
    "                  metrics = ['mean_absolute_error'])\n",
    "\n",
    "regressor.fit(previsores, preco_real, epochs = 100, batch_size=32)"
   ]
  },
  {
   "cell_type": "code",
   "execution_count": 17,
   "id": "38d938b3",
   "metadata": {
    "ExecuteTime": {
     "end_time": "2022-06-10T15:01:34.321358Z",
     "start_time": "2022-06-10T15:01:34.277360Z"
    }
   },
   "outputs": [],
   "source": [
    "base_teste = pd.read_csv('petr4_teste.csv')\n",
    "preco_real_open = base_teste.iloc[:, 1:2].values"
   ]
  },
  {
   "cell_type": "code",
   "execution_count": 18,
   "id": "bfb72d46",
   "metadata": {
    "ExecuteTime": {
     "end_time": "2022-06-10T15:02:04.179599Z",
     "start_time": "2022-06-10T15:02:04.160873Z"
    }
   },
   "outputs": [],
   "source": [
    "preco_real_high = base_teste.iloc[:, 2:3].values"
   ]
  },
  {
   "cell_type": "code",
   "execution_count": 19,
   "id": "2996db96",
   "metadata": {
    "ExecuteTime": {
     "end_time": "2022-06-10T15:06:19.356441Z",
     "start_time": "2022-06-10T15:06:19.327701Z"
    }
   },
   "outputs": [],
   "source": [
    "base_completa = pd.concat((base['Open'], base_teste['Open']), axis = 0)\n",
    "entradas = base_completa[len(base_completa) - len(base_teste) - 90:].values\n",
    "entradas = entradas.reshape(-1,1)\n",
    "entradas = normalizador.transform(entradas)"
   ]
  },
  {
   "cell_type": "code",
   "execution_count": 20,
   "id": "43e82457",
   "metadata": {
    "ExecuteTime": {
     "end_time": "2022-06-10T15:07:04.177412Z",
     "start_time": "2022-06-10T15:07:04.157475Z"
    }
   },
   "outputs": [],
   "source": [
    "X_teste = []\n",
    "for i in range(90, 112):\n",
    "    X_teste.append(entradas[i-90:i, 0])\n",
    "X_teste = np.array(X_teste)\n",
    "X_teste = np.reshape(X_teste, (X_teste.shape[0], X_teste.shape[1], 1))"
   ]
  },
  {
   "cell_type": "code",
   "execution_count": 22,
   "id": "8debaa69",
   "metadata": {
    "ExecuteTime": {
     "end_time": "2022-06-10T15:07:57.101236Z",
     "start_time": "2022-06-10T15:07:55.588741Z"
    }
   },
   "outputs": [
    {
     "name": "stdout",
     "output_type": "stream",
     "text": [
      "1/1 [==============================] - 1s 1s/step\n"
     ]
    }
   ],
   "source": [
    "previsoes = regressor.predict(X_teste)"
   ]
  },
  {
   "cell_type": "code",
   "execution_count": 24,
   "id": "03f4b28a",
   "metadata": {
    "ExecuteTime": {
     "end_time": "2022-06-10T15:08:54.400072Z",
     "start_time": "2022-06-10T15:08:54.382361Z"
    }
   },
   "outputs": [],
   "source": [
    "previsoes = normalizador.inverse_transform(previsoes)"
   ]
  },
  {
   "cell_type": "markdown",
   "id": "04a37f7e",
   "metadata": {},
   "source": [
    "### Este código e muito interessante pois já é um gráfico pronto de comparação de resultados preditos e reais "
   ]
  },
  {
   "cell_type": "code",
   "execution_count": 27,
   "id": "ebe4c76a",
   "metadata": {
    "ExecuteTime": {
     "end_time": "2022-06-10T15:12:45.069964Z",
     "start_time": "2022-06-10T15:12:44.884502Z"
    }
   },
   "outputs": [
    {
     "data": {
      "image/png": "[encoded data removed]",
      "text/plain": [
       "<Figure size 432x288 with 1 Axes>"
      ]
     },
     "metadata": {
      "needs_background": "light"
     },
     "output_type": "display_data"
    }
   ],
   "source": [
    "plt.plot(preco_real_open, color = 'red', label = 'Preço abertura real')\n",
    "plt.plot(preco_real_high, color = 'black', label = 'Preço alta real')\n",
    "\n",
    "plt.plot(previsoes[:,0], color = 'blue', label = 'Previsões (abertura)')\n",
    "plt.plot(previsoes[:, 1], color = 'green', label = 'Previsões (alta)')\n",
    "\n",
    "plt.title ('Previsão preço das ações')\n",
    "plt.xlabel('Tempo')\n",
    "plt.ylabel('Valor Yahoo')\n",
    "plt.legend()\n",
    "plt.show()"
   ]
  },
  {
   "cell_type": "code",
   "execution_count": null,
   "id": "d848e696",
   "metadata": {},
   "outputs": [],
   "source": []
  }
 ],
 "metadata": {
  "kernelspec": {
   "display_name": "Python 3 (ipykernel)",
   "language": "python",
   "name": "python3"
  },
  "language_info": {
   "codemirror_mode": {
    "name": "ipython",
    "version": 3
   },
   "file_extension": ".py",
   "mimetype": "text/x-python",
   "name": "python",
   "nbconvert_exporter": "python",
   "pygments_lexer": "ipython3",
   "version": "3.10.4"
  },
  "toc": {
   "base_numbering": 1,
   "nav_menu": {},
   "number_sections": true,
   "sideBar": true,
   "skip_h1_title": false,
   "title_cell": "Table of Contents",
   "title_sidebar": "Contents",
   "toc_cell": false,
   "toc_position": {},
   "toc_section_display": true,
   "toc_window_display": true
  },
  "varInspector": {
   "cols": {
    "lenName": 16,
    "lenType": 16,
    "lenVar": 40
   },
   "kernels_config": {
    "python": {
     "delete_cmd_postfix": "",
     "delete_cmd_prefix": "del ",
     "library": "var_list.py",
     "varRefreshCmd": "print(var_dic_list())"
    },
    "r": {
     "delete_cmd_postfix": ") ",
     "delete_cmd_prefix": "rm(",
     "library": "var_list.r",
     "varRefreshCmd": "cat(var_dic_list()) "
    }
   },
   "oldHeight": 210.39978000000002,
   "position": {
    "height": "40px",
    "left": "-2.21527px",
    "right": "20px",
    "top": "100.979px",
    "width": "800px"
   },
   "types_to_exclude": [
    "module",
    "function",
    "builtin_function_or_method",
    "instance",
    "_Feature"
   ],
   "varInspector_section_display": "none",
   "window_display": true
  }
 },
 "nbformat": 4,
 "nbformat_minor": 5
}
